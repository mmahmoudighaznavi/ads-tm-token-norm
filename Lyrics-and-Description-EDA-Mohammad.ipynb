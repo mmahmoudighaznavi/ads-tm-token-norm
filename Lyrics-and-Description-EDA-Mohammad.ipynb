{
 "cells": [
  {
   "cell_type": "markdown",
   "id": "016976fd",
   "metadata": {},
   "source": [
    "# ADS509 Module2- Mohammad Mahmoudighaznavi"
   ]
  },
  {
   "cell_type": "markdown",
   "id": "7f79baf9",
   "metadata": {},
   "source": [
    "# ADS 509 Assignment 2.1: Tokenization, Normalization, Descriptive Statistics \n",
    "\n",
    "This notebook holds Assignment 2.1 for Module 2 in ADS 509, Applied Text Mining. Work through this notebook, writing code and answering questions where required. \n",
    "\n",
    "In the previous assignment you put together Twitter data and lyrics data on two artists. In this assignment we explore some of the textual features of those data sets. If, for some reason, you did not complete that previous assignment, data to use for this assignment can be found in the assignment materials section of Blackboard. \n",
    "\n",
    "This assignment asks you to write a short function to calculate some descriptive statistics on a piece of text. Then you are asked to find some interesting and unique statistics on your corpora. \n"
   ]
  },
  {
   "cell_type": "markdown",
   "id": "aae8e2e1",
   "metadata": {},
   "source": [
    "## General Assignment Instructions\n",
    "\n",
    "These instructions are included in every assignment, to remind you of the coding standards for the class. Feel free to delete this cell after reading it. \n",
    "\n",
    "One sign of mature code is conforming to a style guide. We recommend the [Google Python Style Guide](https://google.github.io/styleguide/pyguide.html). If you use a different style guide, please include a cell with a link. \n",
    "\n",
    "Your code should be relatively easy-to-read, sensibly commented, and clean. Writing code is a messy process, so please be sure to edit your final submission. Remove any cells that are not needed or parts of cells that contain unnecessary code. Remove inessential `import` statements and make sure that all such statements are moved into the designated cell. \n",
    "\n",
    "Make use of non-code cells for written commentary. These cells should be grammatical and clearly written. In some of these cells you will have questions to answer. The questions will be marked by a \"Q:\" and will have a corresponding \"A:\" spot for you. *Make sure to answer every question marked with a `Q:` for full credit.* \n"
   ]
  },
  {
   "cell_type": "code",
   "execution_count": 4,
   "id": "e2d096b7",
   "metadata": {},
   "outputs": [],
   "source": [
    "import os\n",
    "import re\n",
    "#!pip install emoji\n",
    "import emoji\n",
    "import pandas as pd\n",
    "import numpy as np\n",
    "\n",
    "from collections import Counter, defaultdict\n",
    "import nltk\n",
    "#nltk.download('stopwords')\n",
    "from nltk.corpus import stopwords\n",
    "from string import punctuation\n",
    "\n",
    "sw = stopwords.words(\"english\")"
   ]
  },
  {
   "cell_type": "code",
   "execution_count": 47,
   "id": "6b555ab2",
   "metadata": {},
   "outputs": [],
   "source": [
    "# Add any additional import statements you need here\n",
    "#!pip install lexical-diversity\n",
    "from lexical_diversity import lex_div as ld\n",
    "#!pip install advertools\n",
    "import advertools as adv\n",
    "from operator import itemgetter"
   ]
  },
  {
   "cell_type": "code",
   "execution_count": 28,
   "id": "923b5a86",
   "metadata": {},
   "outputs": [],
   "source": [
    "# change `data_location` to the location of the folder on your machine.\n",
    "#data_location = \"/users/chandler/dropbox/teaching/repos/ads-tm-api-scrape/\"\n",
    "data_location = \"/Users/Mohammad/Downloads/M1 Assignment Data/M1 Results/\"\n",
    "\n",
    "# These subfolders should still work if you correctly stored the \n",
    "# data from the Module 1 assignment\n",
    "twitter_folder = \"twitter/\"\n",
    "lyrics_folder = \"lyrics/\""
   ]
  },
  {
   "cell_type": "code",
   "execution_count": 22,
   "id": "06522af9",
   "metadata": {},
   "outputs": [],
   "source": [
    "def descriptive_stats(tokens, num_tokens = 5, verbose=True) :\n",
    "    \"\"\"\n",
    "        Given a list of tokens, print number of tokens, number of unique tokens, \n",
    "        number of characters, lexical diversity (https://en.wikipedia.org/wiki/Lexical_diversity), \n",
    "        and num_tokens most common tokens. Return a list with the number of tokens, number\n",
    "        of unique tokens, lexical diversity, and number of characters. \n",
    "    \n",
    "    \"\"\"\n",
    "\n",
    "    # Fill in the correct values here. \n",
    "    num_tokens = len(tokens)\n",
    "    \n",
    "    num_unique_tokens = len(Counter(tokens).keys())\n",
    "    \n",
    "    lexical_diversity = ld.ttr(tokens)\n",
    "    \n",
    "    num_characters = 0\n",
    "    for word in tokens:\n",
    "        num_characters+= len(word)\n",
    "    \n",
    "    if verbose :        \n",
    "        print(f\"There are {num_tokens} tokens in the data.\")\n",
    "        print(f\"There are {num_unique_tokens} unique tokens in the data.\")\n",
    "        print(f\"There are {num_characters} characters in the data.\")\n",
    "        print(f\"The lexical diversity is {lexical_diversity:.3f} in the data.\")\n",
    "    \n",
    "        # print the five most common tokens\n",
    "        \n",
    "    return([num_tokens, num_unique_tokens,\n",
    "            lexical_diversity,\n",
    "            num_characters])"
   ]
  },
  {
   "cell_type": "code",
   "execution_count": 23,
   "id": "59dcf058",
   "metadata": {
    "scrolled": true
   },
   "outputs": [
    {
     "name": "stdout",
     "output_type": "stream",
     "text": [
      "There are 13 tokens in the data.\n",
      "There are 9 unique tokens in the data.\n",
      "There are 55 characters in the data.\n",
      "The lexical diversity is 0.692 in the data.\n"
     ]
    }
   ],
   "source": [
    "text = \"\"\"here is some example text with other example text here in this text\"\"\".split()\n",
    "assert(descriptive_stats(text, verbose=True)[0] == 13)\n",
    "assert(descriptive_stats(text, verbose=False)[1] == 9)\n",
    "assert(abs(descriptive_stats(text, verbose=False)[2] - 0.69) < 0.02)\n",
    "assert(descriptive_stats(text, verbose=False)[3] == 55)\n"
   ]
  },
  {
   "cell_type": "markdown",
   "id": "d2e7e1a2",
   "metadata": {},
   "source": [
    "Q: Why is it beneficial to use assertion statements in your code? \n",
    "\n",
    "A: Assertion allows us to test our codes when a condition returns true or debug our codes if AssertionError raise. "
   ]
  },
  {
   "cell_type": "markdown",
   "id": "9d3bf93e",
   "metadata": {},
   "source": [
    "## Data Input\n",
    "Now read in each of the corpora. For the lyrics data, it may be convenient to store the entire contents of the file to make it easier to inspect the titles individually, as you'll do in the last part of the assignment. In the solution, I stored the lyrics data in a dictionaryta Input\n",
    " with two dimensions of keys: artist and song. The value was the file contents. A data frame would work equally well. \n",
    "\n",
    "For the Twitter data, we only need the description field for this assignment. Feel free all the descriptions read it into a data structure. In the solution, I stored the descriptions as a dictionary of lists, with the key being the artist. \n",
    "\n",
    "\n"
   ]
  },
  {
   "cell_type": "code",
   "execution_count": 29,
   "id": "37d70801",
   "metadata": {},
   "outputs": [],
   "source": [
    "lyrics_data= {\"artist\":[], \"song\":[],\"lyrics\": []}\n",
    "path1=data_location+lyrics_folder\n",
    "\n",
    "for artist in os.listdir(path1):\n",
    "    for song in os.listdir(os.path.join (path1+artist)):\n",
    "        song_name= song.split(\"_\")[1].split(\".\")[0]\n",
    "        with open (os.path.join(path1+artist, song),'r') as f:\n",
    "            lyric=f.read()\n",
    "        \n",
    "        lyrics_data['artist'].append(artist)\n",
    "        lyrics_data['song'].append(song_name)\n",
    "        lyrics_data['lyrics'].append(lyric)\n",
    "        "
   ]
  },
  {
   "cell_type": "code",
   "execution_count": 30,
   "id": "debcac5a",
   "metadata": {},
   "outputs": [],
   "source": [
    "twitter_files = os.listdir(data_location + twitter_folder)\n",
    "desc_files = [f for f in twitter_files if \"followers_data\" in f]\n",
    "tweets_data= defaultdict(list)\n",
    "for f in desc_files :\n",
    "    artist = f.split(\"_\")[0]\n",
    "        \n",
    "    with open(data_location + twitter_folder + f,'r', encoding='utf8') as infile :\n",
    "        next(infile)\n",
    "        for idx, line in enumerate(infile.readlines()) :\n",
    "            line = line.strip().split(\"\\t\")\n",
    "            if len(line) == 7 :\n",
    "                tweets_data[artist].append(line[6])\n",
    "tweets_data= dict(tweets_data)"
   ]
  },
  {
   "cell_type": "markdown",
   "id": "6a5f3b12",
   "metadata": {},
   "source": [
    "## Data Cleaning\n",
    "\n",
    "Now clean and tokenize your data. Remove punctuation chacters (available in the `punctuation` object in the `string` library), split on whitespace, fold to lowercase, and remove stopwords. Store your cleaned data, which must be accessible as an interable for `descriptive_stats`, in new objects or in new columns in your data frame. \n",
    "\n"
   ]
  },
  {
   "cell_type": "code",
   "execution_count": 31,
   "id": "71c73d86",
   "metadata": {},
   "outputs": [],
   "source": [
    "punctuation = set(punctuation) # speeds up comparison"
   ]
  },
  {
   "cell_type": "code",
   "execution_count": 32,
   "id": "b327033a",
   "metadata": {},
   "outputs": [
    {
     "data": {
      "text/html": [
       "<div>\n",
       "<style scoped>\n",
       "    .dataframe tbody tr th:only-of-type {\n",
       "        vertical-align: middle;\n",
       "    }\n",
       "\n",
       "    .dataframe tbody tr th {\n",
       "        vertical-align: top;\n",
       "    }\n",
       "\n",
       "    .dataframe thead th {\n",
       "        text-align: right;\n",
       "    }\n",
       "</style>\n",
       "<table border=\"1\" class=\"dataframe\">\n",
       "  <thead>\n",
       "    <tr style=\"text-align: right;\">\n",
       "      <th></th>\n",
       "      <th>artist</th>\n",
       "      <th>description</th>\n",
       "    </tr>\n",
       "  </thead>\n",
       "  <tbody>\n",
       "    <tr>\n",
       "      <th>0</th>\n",
       "      <td>cher</td>\n",
       "      <td>𝙿𝚛𝚘𝚞𝚍 𝚜𝚞𝚙𝚙𝚘𝚛𝚝𝚎𝚛 𝚘𝚏 𝚖𝚎𝚜𝚜𝚢 𝚋𝚞𝚗𝚜 &amp; 𝚕𝚎𝚐𝚐𝚒𝚗𝚐𝚜</td>\n",
       "    </tr>\n",
       "    <tr>\n",
       "      <th>1</th>\n",
       "      <td>cher</td>\n",
       "      <td>163㎝／愛かっぷ💜26歳🍒 工〇好きな女の子💓 フォローしてくれたらDMします🧡</td>\n",
       "    </tr>\n",
       "    <tr>\n",
       "      <th>2</th>\n",
       "      <td>cher</td>\n",
       "      <td>csu</td>\n",
       "    </tr>\n",
       "    <tr>\n",
       "      <th>3</th>\n",
       "      <td>cher</td>\n",
       "      <td>Writer @Washinformer @SpelmanCollege alumna #D...</td>\n",
       "    </tr>\n",
       "    <tr>\n",
       "      <th>4</th>\n",
       "      <td>cher</td>\n",
       "      <td>I’m unemployed and live with my parents. MOOPS!</td>\n",
       "    </tr>\n",
       "    <tr>\n",
       "      <th>...</th>\n",
       "      <td>...</td>\n",
       "      <td>...</td>\n",
       "    </tr>\n",
       "    <tr>\n",
       "      <th>2191118</th>\n",
       "      <td>robynkonichiwa</td>\n",
       "      <td>singer of songs, type 1 diabetic, tired $jakel...</td>\n",
       "    </tr>\n",
       "    <tr>\n",
       "      <th>2191119</th>\n",
       "      <td>robynkonichiwa</td>\n",
       "      <td>Dadx2/ Con-Arch/ Photographer/ DK #stemgrønnes...</td>\n",
       "    </tr>\n",
       "    <tr>\n",
       "      <th>2191120</th>\n",
       "      <td>robynkonichiwa</td>\n",
       "      <td>A year to change a life is still a year ✨😌</td>\n",
       "    </tr>\n",
       "    <tr>\n",
       "      <th>2191121</th>\n",
       "      <td>robynkonichiwa</td>\n",
       "      <td>Head of Consumer - Mango. Made in Melbourne. R...</td>\n",
       "    </tr>\n",
       "    <tr>\n",
       "      <th>2191122</th>\n",
       "      <td>robynkonichiwa</td>\n",
       "      <td>Stand for what is right, even if you stand alone.</td>\n",
       "    </tr>\n",
       "  </tbody>\n",
       "</table>\n",
       "<p>2191123 rows × 2 columns</p>\n",
       "</div>"
      ],
      "text/plain": [
       "                 artist                                        description\n",
       "0                  cher           𝙿𝚛𝚘𝚞𝚍 𝚜𝚞𝚙𝚙𝚘𝚛𝚝𝚎𝚛 𝚘𝚏 𝚖𝚎𝚜𝚜𝚢 𝚋𝚞𝚗𝚜 & 𝚕𝚎𝚐𝚐𝚒𝚗𝚐𝚜\n",
       "1                  cher          163㎝／愛かっぷ💜26歳🍒 工〇好きな女の子💓 フォローしてくれたらDMします🧡\n",
       "2                  cher                                                csu\n",
       "3                  cher  Writer @Washinformer @SpelmanCollege alumna #D...\n",
       "4                  cher    I’m unemployed and live with my parents. MOOPS!\n",
       "...                 ...                                                ...\n",
       "2191118  robynkonichiwa  singer of songs, type 1 diabetic, tired $jakel...\n",
       "2191119  robynkonichiwa  Dadx2/ Con-Arch/ Photographer/ DK #stemgrønnes...\n",
       "2191120  robynkonichiwa         A year to change a life is still a year ✨😌\n",
       "2191121  robynkonichiwa  Head of Consumer - Mango. Made in Melbourne. R...\n",
       "2191122  robynkonichiwa  Stand for what is right, even if you stand alone.\n",
       "\n",
       "[2191123 rows x 2 columns]"
      ]
     },
     "execution_count": 32,
     "metadata": {},
     "output_type": "execute_result"
    }
   ],
   "source": [
    "# create your clean twitter data here\n",
    "#convrt to dataframe\n",
    "tweets_df= pd.DataFrame(\n",
    "    [(k, val) for k, vals in tweets_data.items() for val in vals], \n",
    "    columns=['artist', 'description']\n",
    ")\n",
    "\n",
    "tweets_df"
   ]
  },
  {
   "cell_type": "code",
   "execution_count": 33,
   "id": "1abc010a",
   "metadata": {},
   "outputs": [],
   "source": [
    "#fold to lowercase \n",
    "tweets_df['lower_description']= tweets_df['description'].apply(lambda x : x.strip().lower())\n",
    "\n",
    "\n",
    "# Remove punctuation characters\n",
    "def re_punctuations(text):\n",
    "       return''.join(ch for ch in text if ch not in punctuation)\n",
    "    \n",
    "tweets_df['no_punctuation'] = tweets_df['lower_description']. apply (re_punctuations)\n",
    "\n",
    "\n",
    "#Split on whitespace\n",
    "tweets_df['no_whitespace']=tweets_df['no_punctuation'].apply(lambda x : x.split())\n",
    "\n",
    "# Remove stopwords\n",
    "tweets_df['clean_text']=tweets_df['no_whitespace'].apply(lambda x: [item for item in x if item not in sw])\n",
    "\n",
    "\n",
    "# drop extra columns\n",
    "tweets_df.drop(columns=['lower_description','no_punctuation' ,'no_whitespace'], inplace=True)"
   ]
  },
  {
   "cell_type": "code",
   "execution_count": 34,
   "id": "e0f22e10",
   "metadata": {},
   "outputs": [
    {
     "data": {
      "text/html": [
       "<div>\n",
       "<style scoped>\n",
       "    .dataframe tbody tr th:only-of-type {\n",
       "        vertical-align: middle;\n",
       "    }\n",
       "\n",
       "    .dataframe tbody tr th {\n",
       "        vertical-align: top;\n",
       "    }\n",
       "\n",
       "    .dataframe thead th {\n",
       "        text-align: right;\n",
       "    }\n",
       "</style>\n",
       "<table border=\"1\" class=\"dataframe\">\n",
       "  <thead>\n",
       "    <tr style=\"text-align: right;\">\n",
       "      <th></th>\n",
       "      <th>artist</th>\n",
       "      <th>song</th>\n",
       "      <th>lyrics</th>\n",
       "    </tr>\n",
       "  </thead>\n",
       "  <tbody>\n",
       "    <tr>\n",
       "      <th>0</th>\n",
       "      <td>cher</td>\n",
       "      <td>88degrees</td>\n",
       "      <td>\"88 Degrees\"\\n\\n\\n\\nStuck in L.A., ain't got n...</td>\n",
       "    </tr>\n",
       "    <tr>\n",
       "      <th>1</th>\n",
       "      <td>cher</td>\n",
       "      <td>adifferentkindoflovesong</td>\n",
       "      <td>\"A Different Kind Of Love Song\"\\n\\n\\n\\nWhat if...</td>\n",
       "    </tr>\n",
       "    <tr>\n",
       "      <th>2</th>\n",
       "      <td>cher</td>\n",
       "      <td>afterall</td>\n",
       "      <td>\"After All\"\\n\\n\\n\\nWell, here we are again\\nI ...</td>\n",
       "    </tr>\n",
       "    <tr>\n",
       "      <th>3</th>\n",
       "      <td>cher</td>\n",
       "      <td>again</td>\n",
       "      <td>\"Again\"\\n\\n\\n\\nAgain evening finds me at your ...</td>\n",
       "    </tr>\n",
       "    <tr>\n",
       "      <th>4</th>\n",
       "      <td>cher</td>\n",
       "      <td>alfie</td>\n",
       "      <td>\"Alfie\"\\n\\n\\n\\nWhat's it all about, Alfie?\\nIs...</td>\n",
       "    </tr>\n",
       "    <tr>\n",
       "      <th>...</th>\n",
       "      <td>...</td>\n",
       "      <td>...</td>\n",
       "      <td>...</td>\n",
       "    </tr>\n",
       "    <tr>\n",
       "      <th>415</th>\n",
       "      <td>robyn</td>\n",
       "      <td>wedancetothebeat114528</td>\n",
       "      <td>\"We Dance To The Beat\"\\n\\n\\n\\nWe dance to the ...</td>\n",
       "    </tr>\n",
       "    <tr>\n",
       "      <th>416</th>\n",
       "      <td>robyn</td>\n",
       "      <td>wheredidourlovego</td>\n",
       "      <td>\"Where Did Our Love Go\"\\n\\n\\n\\nThoughts about ...</td>\n",
       "    </tr>\n",
       "    <tr>\n",
       "      <th>417</th>\n",
       "      <td>robyn</td>\n",
       "      <td>whosthatgirl</td>\n",
       "      <td>\"Who's That Girl\"\\n\\n\\n\\nGood girls are pretty...</td>\n",
       "    </tr>\n",
       "    <tr>\n",
       "      <th>418</th>\n",
       "      <td>robyn</td>\n",
       "      <td>witheveryheartbeat</td>\n",
       "      <td>\"With Every Heartbeat\"\\n\\n\\n\\nMaybe we could m...</td>\n",
       "    </tr>\n",
       "    <tr>\n",
       "      <th>419</th>\n",
       "      <td>robyn</td>\n",
       "      <td>youvegotthatsomething</td>\n",
       "      <td>\"You've Got That Something\"\\n\\n\\n\\nLook at me ...</td>\n",
       "    </tr>\n",
       "  </tbody>\n",
       "</table>\n",
       "<p>420 rows × 3 columns</p>\n",
       "</div>"
      ],
      "text/plain": [
       "    artist                      song  \\\n",
       "0     cher                 88degrees   \n",
       "1     cher  adifferentkindoflovesong   \n",
       "2     cher                  afterall   \n",
       "3     cher                     again   \n",
       "4     cher                     alfie   \n",
       "..     ...                       ...   \n",
       "415  robyn    wedancetothebeat114528   \n",
       "416  robyn         wheredidourlovego   \n",
       "417  robyn              whosthatgirl   \n",
       "418  robyn        witheveryheartbeat   \n",
       "419  robyn     youvegotthatsomething   \n",
       "\n",
       "                                                lyrics  \n",
       "0    \"88 Degrees\"\\n\\n\\n\\nStuck in L.A., ain't got n...  \n",
       "1    \"A Different Kind Of Love Song\"\\n\\n\\n\\nWhat if...  \n",
       "2    \"After All\"\\n\\n\\n\\nWell, here we are again\\nI ...  \n",
       "3    \"Again\"\\n\\n\\n\\nAgain evening finds me at your ...  \n",
       "4    \"Alfie\"\\n\\n\\n\\nWhat's it all about, Alfie?\\nIs...  \n",
       "..                                                 ...  \n",
       "415  \"We Dance To The Beat\"\\n\\n\\n\\nWe dance to the ...  \n",
       "416  \"Where Did Our Love Go\"\\n\\n\\n\\nThoughts about ...  \n",
       "417  \"Who's That Girl\"\\n\\n\\n\\nGood girls are pretty...  \n",
       "418  \"With Every Heartbeat\"\\n\\n\\n\\nMaybe we could m...  \n",
       "419  \"You've Got That Something\"\\n\\n\\n\\nLook at me ...  \n",
       "\n",
       "[420 rows x 3 columns]"
      ]
     },
     "execution_count": 34,
     "metadata": {},
     "output_type": "execute_result"
    }
   ],
   "source": [
    "# create your clean lyrics data here\n",
    "#convrt to dataframe\n",
    "lyrics_df=pd.DataFrame.from_dict(lyrics_data)\n",
    "lyrics_df"
   ]
  },
  {
   "cell_type": "code",
   "execution_count": 35,
   "id": "6b4c16ad",
   "metadata": {},
   "outputs": [
    {
     "data": {
      "text/html": [
       "<div>\n",
       "<style scoped>\n",
       "    .dataframe tbody tr th:only-of-type {\n",
       "        vertical-align: middle;\n",
       "    }\n",
       "\n",
       "    .dataframe tbody tr th {\n",
       "        vertical-align: top;\n",
       "    }\n",
       "\n",
       "    .dataframe thead th {\n",
       "        text-align: right;\n",
       "    }\n",
       "</style>\n",
       "<table border=\"1\" class=\"dataframe\">\n",
       "  <thead>\n",
       "    <tr style=\"text-align: right;\">\n",
       "      <th></th>\n",
       "      <th>artist</th>\n",
       "      <th>song</th>\n",
       "      <th>lyrics</th>\n",
       "      <th>clean_text</th>\n",
       "    </tr>\n",
       "  </thead>\n",
       "  <tbody>\n",
       "    <tr>\n",
       "      <th>0</th>\n",
       "      <td>cher</td>\n",
       "      <td>88degrees</td>\n",
       "      <td>\"88 Degrees\"\\n\\n\\n\\nStuck in L.A., ain't got n...</td>\n",
       "      <td>[88, degrees, stuck, la, aint, got, friends, h...</td>\n",
       "    </tr>\n",
       "    <tr>\n",
       "      <th>1</th>\n",
       "      <td>cher</td>\n",
       "      <td>adifferentkindoflovesong</td>\n",
       "      <td>\"A Different Kind Of Love Song\"\\n\\n\\n\\nWhat if...</td>\n",
       "      <td>[different, kind, love, song, world, crazy, sa...</td>\n",
       "    </tr>\n",
       "    <tr>\n",
       "      <th>2</th>\n",
       "      <td>cher</td>\n",
       "      <td>afterall</td>\n",
       "      <td>\"After All\"\\n\\n\\n\\nWell, here we are again\\nI ...</td>\n",
       "      <td>[well, guess, must, fate, weve, tried, deep, i...</td>\n",
       "    </tr>\n",
       "    <tr>\n",
       "      <th>3</th>\n",
       "      <td>cher</td>\n",
       "      <td>again</td>\n",
       "      <td>\"Again\"\\n\\n\\n\\nAgain evening finds me at your ...</td>\n",
       "      <td>[evening, finds, door, ask, could, try, dont, ...</td>\n",
       "    </tr>\n",
       "    <tr>\n",
       "      <th>4</th>\n",
       "      <td>cher</td>\n",
       "      <td>alfie</td>\n",
       "      <td>\"Alfie\"\\n\\n\\n\\nWhat's it all about, Alfie?\\nIs...</td>\n",
       "      <td>[alfie, whats, alfie, moment, live, whats, sor...</td>\n",
       "    </tr>\n",
       "  </tbody>\n",
       "</table>\n",
       "</div>"
      ],
      "text/plain": [
       "  artist                      song  \\\n",
       "0   cher                 88degrees   \n",
       "1   cher  adifferentkindoflovesong   \n",
       "2   cher                  afterall   \n",
       "3   cher                     again   \n",
       "4   cher                     alfie   \n",
       "\n",
       "                                              lyrics  \\\n",
       "0  \"88 Degrees\"\\n\\n\\n\\nStuck in L.A., ain't got n...   \n",
       "1  \"A Different Kind Of Love Song\"\\n\\n\\n\\nWhat if...   \n",
       "2  \"After All\"\\n\\n\\n\\nWell, here we are again\\nI ...   \n",
       "3  \"Again\"\\n\\n\\n\\nAgain evening finds me at your ...   \n",
       "4  \"Alfie\"\\n\\n\\n\\nWhat's it all about, Alfie?\\nIs...   \n",
       "\n",
       "                                          clean_text  \n",
       "0  [88, degrees, stuck, la, aint, got, friends, h...  \n",
       "1  [different, kind, love, song, world, crazy, sa...  \n",
       "2  [well, guess, must, fate, weve, tried, deep, i...  \n",
       "3  [evening, finds, door, ask, could, try, dont, ...  \n",
       "4  [alfie, whats, alfie, moment, live, whats, sor...  "
      ]
     },
     "execution_count": 35,
     "metadata": {},
     "output_type": "execute_result"
    }
   ],
   "source": [
    "#fold to lowercase \n",
    "lyrics_df['lower_lyrics']= lyrics_df['lyrics'].apply(lambda x : x.strip().lower())\n",
    "\n",
    "\n",
    "# Remove punctuation characters\n",
    "def re_punctuations(text):\n",
    "       return''.join(ch for ch in text if ch not in punctuation)\n",
    "    \n",
    "lyrics_df['no_punctuation'] = lyrics_df['lower_lyrics']. apply (re_punctuations)\n",
    "\n",
    "\n",
    "#Split on whitespace\n",
    "lyrics_df['no_whitespace']=lyrics_df['no_punctuation'].apply(lambda x : x.split())\n",
    "\n",
    "# Remove stopwords\n",
    "lyrics_df['clean_text']=lyrics_df['no_whitespace'].apply(lambda x: [item for item in x if item not in sw])\n",
    "\n",
    "\n",
    "# drop extra columns\n",
    "lyrics_df.drop(columns=['lower_lyrics','no_punctuation' ,'no_whitespace'], inplace=True)\n",
    "\n",
    "lyrics_df.head()"
   ]
  },
  {
   "cell_type": "markdown",
   "id": "f2dd0179",
   "metadata": {},
   "source": [
    "## Basic Descriptive Statistics\n",
    "\n",
    "Call your `descriptive_stats` function on both your lyrics data and your twitter data and for both artists (four total calls). "
   ]
  },
  {
   "cell_type": "code",
   "execution_count": 36,
   "id": "f0bbedd9",
   "metadata": {},
   "outputs": [
    {
     "name": "stdout",
     "output_type": "stream",
     "text": [
      "cher tweet:\n",
      "There are 2001090 tokens in the data.\n",
      "There are 1797531 unique tokens in the data.\n",
      "There are 106635955 characters in the data.\n",
      "The lexical diversity is 0.898 in the data.\n"
     ]
    }
   ],
   "source": [
    "# calls to descriptive_stats here\n",
    "#cher tweet\n",
    "\n",
    "tweets_cher=tweets_df.loc[tweets_df['artist']=='cher']\n",
    "\n",
    "# convert list of elements to string object\n",
    "description_cher=list(tweets_cher['clean_text'])\n",
    "\n",
    "description_cher_str=[]\n",
    "counter=0\n",
    "for text in description_cher:\n",
    "    myString = \" \".join(description_cher[counter])\n",
    "    description_cher_str.append(myString)\n",
    "    counter+=1\n",
    "\n",
    "print('cher tweet:')\n",
    "\n",
    "assert(descriptive_stats(description_cher_str, verbose=True))"
   ]
  },
  {
   "cell_type": "code",
   "execution_count": 37,
   "id": "10a01785",
   "metadata": {},
   "outputs": [
    {
     "name": "stdout",
     "output_type": "stream",
     "text": [
      "There are 35916 tokens in the data.\n",
      "There are 3703 unique tokens in the data.\n",
      "There are 172696 characters in the data.\n",
      "The lexical diversity is 0.103 in the data.\n"
     ]
    }
   ],
   "source": [
    "#cher lyrics\n",
    "\n",
    "song_cher=lyrics_df.loc[lyrics_df['artist']=='cher']\n",
    "song_cher=list(song_cher['clean_text'])\n",
    "\n",
    "# convert nested list to a flat list\n",
    "flat_list_cher = [element for innerList in song_cher for element in innerList]\n",
    "\n",
    "assert(descriptive_stats(flat_list_cher, verbose=True))"
   ]
  },
  {
   "cell_type": "code",
   "execution_count": 38,
   "id": "9b1ad8f1",
   "metadata": {},
   "outputs": [
    {
     "name": "stdout",
     "output_type": "stream",
     "text": [
      "robyn tweet:\n",
      "There are 190033 tokens in the data.\n",
      "There are 180322 unique tokens in the data.\n",
      "There are 10434591 characters in the data.\n",
      "The lexical diversity is 0.949 in the data.\n"
     ]
    }
   ],
   "source": [
    "#robyn tweet\n",
    "\n",
    "tweets_robyn=tweets_df.loc[tweets_df['artist']=='robynkonichiwa']\n",
    "\n",
    "# convert list of elements to string object\n",
    "description_robyn=list(tweets_robyn['clean_text'])\n",
    "\n",
    "description_robyn_str=[]\n",
    "counter=0\n",
    "for text in description_robyn:\n",
    "    myString = \" \".join(description_robyn[counter])\n",
    "    description_robyn_str.append(myString)\n",
    "    counter+=1\n",
    "\n",
    "print('robyn tweet:')\n",
    "\n",
    "assert(descriptive_stats(description_robyn_str, verbose=True))"
   ]
  },
  {
   "cell_type": "code",
   "execution_count": 39,
   "id": "237f407b",
   "metadata": {},
   "outputs": [
    {
     "name": "stdout",
     "output_type": "stream",
     "text": [
      "There are 15227 tokens in the data.\n",
      "There are 2156 unique tokens in the data.\n",
      "There are 73988 characters in the data.\n",
      "The lexical diversity is 0.142 in the data.\n"
     ]
    }
   ],
   "source": [
    "# robyn lyrics\n",
    "\n",
    "song_robyn=lyrics_df.loc[lyrics_df['artist']=='robyn']\n",
    "song_robyn=list(song_robyn['clean_text'])\n",
    "\n",
    "# convert nested list to a flat list\n",
    "flat_list_robyn = [element for innerList in song_robyn for element in innerList]\n",
    "\n",
    "assert(descriptive_stats(flat_list_robyn, verbose=True))"
   ]
  },
  {
   "cell_type": "markdown",
   "id": "46294409",
   "metadata": {},
   "source": [
    "Q: How do you think the \"top 5 words\" would be different if we left stopwords in the data? \n",
    "\n",
    "A: Because stopwords often appear frequently in sentences, retaining them in the data is more likely to result in the top 5 words being stopwords, which may not provide significant information.\n",
    "\n",
    "---\n",
    "\n",
    "Q: What were your prior beliefs about the lexical diversity between the artists? Does the difference (or lack thereof) in lexical diversity between the artists conform to your prior beliefs? \n",
    "\n",
    "A: Lexical diversity for Cher’s lyrics is about 0.103 and for Robyn is about 0.142. Since low score represent songs as simple and similar, and suggests a higher repetition of words or phrases. On the other hand, higher value means that the lyrics contain many different word types. Cher, as I expected, has simpler songs to memorize compared to Robyn's, whose songs seem to exhibit more lexical diversity. \n"
   ]
  },
  {
   "cell_type": "markdown",
   "id": "4d4e1ac1",
   "metadata": {},
   "source": [
    "\n",
    "## Specialty Statistics\n",
    "\n",
    "The descriptive statistics we have calculated are quite generic. You will now calculate a handful of statistics tailored to these data.\n",
    "\n",
    "1. Ten most common emojis by artist in the twitter descriptions.\n",
    "1. Ten most common hashtags by artist in the twitter descriptions.\n",
    "1. Five most common words in song titles by artist. \n",
    "1. For each artist, a histogram of song lengths (in terms of number of tokens) \n",
    "\n",
    "We can use the `emoji` library to help us identify emojis and you have been given a function to help you.\n"
   ]
  },
  {
   "cell_type": "code",
   "execution_count": 40,
   "id": "753a5a3e",
   "metadata": {},
   "outputs": [],
   "source": [
    "assert(emoji.is_emoji(\"❤️\"))\n",
    "assert(not emoji.is_emoji(\":-)\"))"
   ]
  },
  {
   "cell_type": "markdown",
   "id": "986fc4c0",
   "metadata": {},
   "source": [
    "### Emojis 😁\n",
    "\n",
    "What are the ten most common emojis by artist in the twitter descriptions? \n"
   ]
  },
  {
   "cell_type": "code",
   "execution_count": 44,
   "id": "269cd433",
   "metadata": {},
   "outputs": [
    {
     "data": {
      "text/plain": [
       "[('❤️', 45799),\n",
       " ('❤', 31788),\n",
       " ('🏳️\\u200d🌈', 30454),\n",
       " ('✨', 29468),\n",
       " ('♥', 28401),\n",
       " ('💙', 21379),\n",
       " ('🌊', 20223),\n",
       " ('🌈', 16898),\n",
       " ('💜', 16550),\n",
       " ('🇺🇸', 14686)]"
      ]
     },
     "execution_count": 44,
     "metadata": {},
     "output_type": "execute_result"
    }
   ],
   "source": [
    "#cher emogies\n",
    "\n",
    "emoji_cher=tweets_df.loc[tweets_df['artist']=='cher','description']\n",
    "emoji_cher=list(emoji_cher)\n",
    "emoji_summary = adv.extract_emoji(emoji_cher)\n",
    "\n",
    "# top 10 emojies \n",
    "emoji_summary['top_emoji'][0:10]"
   ]
  },
  {
   "cell_type": "code",
   "execution_count": 45,
   "id": "cac4c170",
   "metadata": {},
   "outputs": [
    {
     "data": {
      "text/plain": [
       "[('🏳️\\u200d🌈', 3249),\n",
       " ('❤️', 2887),\n",
       " ('♥', 2886),\n",
       " ('✨', 2223),\n",
       " ('❤', 1771),\n",
       " ('🌈', 1417),\n",
       " ('💙', 809),\n",
       " ('💜', 739),\n",
       " ('🎶', 710),\n",
       " ('🖤', 615)]"
      ]
     },
     "execution_count": 45,
     "metadata": {},
     "output_type": "execute_result"
    }
   ],
   "source": [
    "#robyn emogies\n",
    "\n",
    "emoji_robyn=tweets_df.loc[tweets_df['artist']=='robynkonichiwa','description']\n",
    "emoji_robyn=list(emoji_robyn)\n",
    "emoji_summary_r = adv.extract_emoji(emoji_robyn)\n",
    "\n",
    "# top 10 emojies \n",
    "emoji_summary_r['top_emoji'][0:10]"
   ]
  },
  {
   "cell_type": "markdown",
   "id": "bab9b770",
   "metadata": {},
   "source": [
    "### Hashtags\n",
    "\n",
    "What are the ten most common hashtags by artist in the twitter descriptions? \n"
   ]
  },
  {
   "cell_type": "code",
   "execution_count": 48,
   "id": "07c396f1",
   "metadata": {},
   "outputs": [
    {
     "data": {
      "text/plain": [
       "{'BLM': 9535,\n",
       " 'Resist': 6036,\n",
       " 'BlackLivesMatter': 4681,\n",
       " 'resist': 3797,\n",
       " 'FBR': 3239,\n",
       " 'TheResistance': 2995,\n",
       " 'blacklivesmatter': 2645,\n",
       " '1': 2627,\n",
       " 'Resistance': 1919,\n",
       " 'RESIST': 1823}"
      ]
     },
     "execution_count": 48,
     "metadata": {},
     "output_type": "execute_result"
    }
   ],
   "source": [
    "# cher hashtags\n",
    "\n",
    "count_hashtag = Counter()\n",
    "for element in emoji_cher:\n",
    "    for hashtags in re.findall('#(\\w+)', element):\n",
    "        count_hashtag[hashtags] += 1\n",
    "\n",
    "top10_hashtag = dict(sorted(count_hashtag.items(), key=itemgetter(1), reverse=True)[:10])\n",
    "top10_hashtag"
   ]
  },
  {
   "cell_type": "code",
   "execution_count": 49,
   "id": "1758fcf2",
   "metadata": {},
   "outputs": [
    {
     "data": {
      "text/plain": [
       "{'BlackLivesMatter': 337,\n",
       " 'BLM': 306,\n",
       " 'blacklivesmatter': 208,\n",
       " '1': 199,\n",
       " 'music': 174,\n",
       " 'Music': 113,\n",
       " 'EDM': 86,\n",
       " 'LGBTQ': 75,\n",
       " 'TeamFollowBack': 59,\n",
       " 'blm': 56}"
      ]
     },
     "execution_count": 49,
     "metadata": {},
     "output_type": "execute_result"
    }
   ],
   "source": [
    "# robyn hashtags\n",
    "\n",
    "count_hashtag = Counter()\n",
    "for element in emoji_robyn:\n",
    "    for hashtags in re.findall('#(\\w+)', element):\n",
    "        count_hashtag[hashtags] += 1\n",
    "\n",
    "top10_hashtag = dict(sorted(count_hashtag.items(), key=itemgetter(1), reverse=True)[:10])\n",
    "top10_hashtag"
   ]
  },
  {
   "cell_type": "markdown",
   "id": "d10f21d5",
   "metadata": {},
   "source": [
    "### Song Titles\n",
    "\n",
    "What are the five most common words in song titles by artist? The song titles should be on the first line of the lyrics pages, so if you have kept the raw file contents around, you will not need to re-read the data.\n"
   ]
  },
  {
   "cell_type": "code",
   "execution_count": 50,
   "id": "bb69b36b",
   "metadata": {},
   "outputs": [
    {
     "name": "stdout",
     "output_type": "stream",
     "text": [
      "love: 38\n",
      "song: 11\n",
      "believe: 6\n",
      "heart: 6\n",
      "time: 6\n"
     ]
    }
   ],
   "source": [
    "# cher title\n",
    "\n",
    "cher_title=lyrics_df.loc[lyrics_df['artist']=='cher','lyrics']\n",
    "cher_title=list(cher_title)\n",
    "\n",
    "\n",
    "song_title=[]\n",
    "counter=0\n",
    "for i in cher_title:\n",
    "    title=i.split('\\n')[0]\n",
    "    song_title.append(title)\n",
    "    counter+=1\n",
    "    \n",
    "\n",
    "song_title=str(song_title)\n",
    "t1=re.sub( ' \"  ','' ,song_title)\n",
    "t2=re_punctuations(t1)\n",
    "t3=t2.lower()\n",
    "t4=t3.split()\n",
    "t5= [word for word in t4 if not word in stopwords.words()]\n",
    "\n",
    "\n",
    "# top 5 words\n",
    "frequency={}\n",
    "for item in t5:\n",
    "   # checking the element in dictionary\n",
    "   if item in frequency:\n",
    "      # incrementing the counr\n",
    "      frequency[item] += 1\n",
    "   else:\n",
    "      # initializing the count\n",
    "      frequency[item] = 1\n",
    "    \n",
    "\n",
    "for key, value in sorted(frequency.items(), key=lambda kv: kv[1], reverse=True)[:5]:\n",
    "     print(\"%s: %s\" % (key, value))"
   ]
  },
  {
   "cell_type": "code",
   "execution_count": 51,
   "id": "1c6dfa59",
   "metadata": {},
   "outputs": [
    {
     "name": "stdout",
     "output_type": "stream",
     "text": [
      "love: 6\n",
      "girl: 3\n",
      "hang: 3\n",
      "baby: 2\n",
      "music: 2\n"
     ]
    }
   ],
   "source": [
    "# robyn title\n",
    "\n",
    "robyn_title=lyrics_df.loc[lyrics_df['artist']=='robyn','lyrics']\n",
    "robyn_title=list(robyn_title)\n",
    "\n",
    "\n",
    "song_title=[]\n",
    "counter=0\n",
    "for i in robyn_title:\n",
    "    title=i.split('\\n')[0]\n",
    "    song_title.append(title)\n",
    "    counter+=1\n",
    "    \n",
    "\n",
    "song_title=str(song_title)\n",
    "t1=re.sub( ' \"  ','' ,song_title)\n",
    "t2=re_punctuations(t1)\n",
    "t3=t2.lower()\n",
    "t4=t3.split()\n",
    "t5= [word for word in t4 if not word in stopwords.words()]\n",
    "\n",
    "\n",
    "# top 5 words\n",
    "frequency={}\n",
    "for item in t5:\n",
    "   # checking the element in dictionary\n",
    "   if item in frequency:\n",
    "      # incrementing the counr\n",
    "      frequency[item] += 1\n",
    "   else:\n",
    "      # initializing the count\n",
    "      frequency[item] = 1\n",
    "    \n",
    "\n",
    "for key, value in sorted(frequency.items(), key=lambda kv: kv[1], reverse=True)[:5]:\n",
    "   print(\"%s: %s\" % (key, value))"
   ]
  },
  {
   "cell_type": "markdown",
   "id": "5dd4fd71",
   "metadata": {},
   "source": [
    "### Song Lengths\n",
    "\n",
    "For each artist, a histogram of song lengths (in terms of number of tokens). If you put the song lengths in a data frame with an artist column, matplotlib will make the plotting quite easy. An example is given to help you out. \n"
   ]
  },
  {
   "cell_type": "code",
   "execution_count": 52,
   "id": "805a1e52",
   "metadata": {},
   "outputs": [
    {
     "data": {
      "text/plain": [
       "artist\n",
       "Artist 1    AxesSubplot(0.125,0.125;0.775x0.755)\n",
       "Artist 2    AxesSubplot(0.125,0.125;0.775x0.755)\n",
       "Name: length, dtype: object"
      ]
     },
     "execution_count": 52,
     "metadata": {},
     "output_type": "execute_result"
    },
    {
     "data": {
      "image/png": "[encoded data removed]",
      "text/plain": [
       "<Figure size 432x288 with 1 Axes>"
      ]
     },
     "metadata": {
      "needs_background": "light"
     },
     "output_type": "display_data"
    }
   ],
   "source": [
    "num_replicates = 1000\n",
    "\n",
    "df = pd.DataFrame({\n",
    "    \"artist\" : ['Artist 1'] * num_replicates + ['Artist 2']*num_replicates,\n",
    "    \"length\" : np.concatenate((np.random.poisson(125,num_replicates),np.random.poisson(150,num_replicates)))\n",
    "})\n",
    "\n",
    "df.groupby('artist')['length'].plot(kind=\"hist\",density=True,alpha=0.5,legend=True)"
   ]
  },
  {
   "cell_type": "markdown",
   "id": "8fde9ebb",
   "metadata": {},
   "source": [
    "Since the lyrics may be stored with carriage returns or tabs, it may be useful to have a function that can collapse whitespace, using regular expressions, and be used for splitting. \n",
    "\n",
    "Q: What does the regular expression `'\\s+'` match on? \n",
    "\n",
    "A: It matches sequences of one or more consecutive whitespace characters in a text string.\n"
   ]
  },
  {
   "cell_type": "code",
   "execution_count": 53,
   "id": "f0e34516",
   "metadata": {},
   "outputs": [],
   "source": [
    "collapse_whitespace = re.compile(r'\\s+')\n",
    "\n",
    "def tokenize_lyrics(lyric) : \n",
    "    \"\"\"strip and split on whitespace\"\"\"\n",
    "    return([item.lower() for item in collapse_whitespace.split(lyric)])"
   ]
  },
  {
   "cell_type": "code",
   "execution_count": 54,
   "id": "2294c440",
   "metadata": {},
   "outputs": [
    {
     "data": {
      "text/plain": [
       "artist\n",
       "cher     AxesSubplot(0.125,0.125;0.775x0.755)\n",
       "robyn    AxesSubplot(0.125,0.125;0.775x0.755)\n",
       "Name: length, dtype: object"
      ]
     },
     "execution_count": 54,
     "metadata": {},
     "output_type": "execute_result"
    },
    {
     "data": {
      "image/png": "[encoded data removed]",
      "text/plain": [
       "<Figure size 432x288 with 1 Axes>"
      ]
     },
     "metadata": {
      "needs_background": "light"
     },
     "output_type": "display_data"
    }
   ],
   "source": [
    "# Your lyric length comparison chart here. \n",
    "lyrics_df['length'] = lyrics_df['clean_text'].map(len)\n",
    "lyrics_df.head()\n",
    "\n",
    "lyrics_df.groupby('artist')['length'].plot(kind=\"hist\",density=True,alpha=0.5,legend=True)"
   ]
  }
 ],
 "metadata": {
  "kernelspec": {
   "display_name": "Python 3 (ipykernel)",
   "language": "python",
   "name": "python3"
  },
  "language_info": {
   "codemirror_mode": {
    "name": "ipython",
    "version": 3
   },
   "file_extension": ".py",
   "mimetype": "text/x-python",
   "name": "python",
   "nbconvert_exporter": "python",
   "pygments_lexer": "ipython3",
   "version": "3.9.7"
  }
 },
 "nbformat": 4,
 "nbformat_minor": 5
}
